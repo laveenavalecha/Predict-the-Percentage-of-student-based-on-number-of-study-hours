{
  "nbformat": 4,
  "nbformat_minor": 0,
  "metadata": {
    "colab": {
      "name": "The Sparks Foundation - Task 1 - Predict the Percentage of student based on number of study hours (Supervised ML).ipynb",
      "provenance": [],
      "collapsed_sections": [],
      "toc_visible": true
    },
    "kernelspec": {
      "name": "python3",
      "display_name": "Python 3"
    }
  },
  "cells": [
    {
      "cell_type": "markdown",
      "metadata": {
        "id": "LsUqQhP8xtJF"
      },
      "source": [
        "# **Task - Predict the percentage of an student based on the no. of study hours.**\r\n",
        "\r\n",
        "---\r\n",
        "\r\n"
      ]
    },
    {
      "cell_type": "markdown",
      "metadata": {
        "id": "FPe-Jobskln9"
      },
      "source": [
        "# Importing required libraries and data given in task\r\n",
        "\r\n",
        "---"
      ]
    },
    {
      "cell_type": "code",
      "metadata": {
        "id": "THlKFzwuvFaA"
      },
      "source": [
        "import pandas as pd\r\n",
        "import numpy as np\r\n",
        "import matplotlib.pyplot as plt  \r\n",
        "%matplotlib inline"
      ],
      "execution_count": 14,
      "outputs": []
    },
    {
      "cell_type": "markdown",
      "metadata": {
        "id": "m74LEi1XkkpM"
      },
      "source": [
        "# Preprocessing and Training on given data\r\n",
        "\r\n",
        "---"
      ]
    },
    {
      "cell_type": "code",
      "metadata": {
        "id": "S3RLsdxY7fsd"
      },
      "source": [
        "rawData=pd.read_csv(\"http://bit.ly/w-data\")"
      ],
      "execution_count": 15,
      "outputs": []
    },
    {
      "cell_type": "code",
      "metadata": {
        "colab": {
          "base_uri": "https://localhost:8080/",
          "height": 197
        },
        "id": "X9t_WSeu6X4T",
        "outputId": "0c7ffb40-ab17-4ef7-b352-3c8967c4c8bb"
      },
      "source": [
        "rawData.head(5)"
      ],
      "execution_count": 16,
      "outputs": [
        {
          "output_type": "execute_result",
          "data": {
            "text/html": [
              "<div>\n",
              "<style scoped>\n",
              "    .dataframe tbody tr th:only-of-type {\n",
              "        vertical-align: middle;\n",
              "    }\n",
              "\n",
              "    .dataframe tbody tr th {\n",
              "        vertical-align: top;\n",
              "    }\n",
              "\n",
              "    .dataframe thead th {\n",
              "        text-align: right;\n",
              "    }\n",
              "</style>\n",
              "<table border=\"1\" class=\"dataframe\">\n",
              "  <thead>\n",
              "    <tr style=\"text-align: right;\">\n",
              "      <th></th>\n",
              "      <th>Hours</th>\n",
              "      <th>Scores</th>\n",
              "    </tr>\n",
              "  </thead>\n",
              "  <tbody>\n",
              "    <tr>\n",
              "      <th>0</th>\n",
              "      <td>2.5</td>\n",
              "      <td>21</td>\n",
              "    </tr>\n",
              "    <tr>\n",
              "      <th>1</th>\n",
              "      <td>5.1</td>\n",
              "      <td>47</td>\n",
              "    </tr>\n",
              "    <tr>\n",
              "      <th>2</th>\n",
              "      <td>3.2</td>\n",
              "      <td>27</td>\n",
              "    </tr>\n",
              "    <tr>\n",
              "      <th>3</th>\n",
              "      <td>8.5</td>\n",
              "      <td>75</td>\n",
              "    </tr>\n",
              "    <tr>\n",
              "      <th>4</th>\n",
              "      <td>3.5</td>\n",
              "      <td>30</td>\n",
              "    </tr>\n",
              "  </tbody>\n",
              "</table>\n",
              "</div>"
            ],
            "text/plain": [
              "   Hours  Scores\n",
              "0    2.5      21\n",
              "1    5.1      47\n",
              "2    3.2      27\n",
              "3    8.5      75\n",
              "4    3.5      30"
            ]
          },
          "metadata": {
            "tags": []
          },
          "execution_count": 16
        }
      ]
    },
    {
      "cell_type": "code",
      "metadata": {
        "id": "eLLXU99771ci"
      },
      "source": [
        "#dividing input(hours/day) and output(percentage) feature variables\r\n",
        "data_X=rawData.iloc[:, :-1].values  \r\n",
        "data_y=rawData.iloc[:, 1].values"
      ],
      "execution_count": 17,
      "outputs": []
    },
    {
      "cell_type": "code",
      "metadata": {
        "id": "zXfHvB7DYve_"
      },
      "source": [
        "#splitting data into train and test data \r\n",
        "from sklearn.model_selection import train_test_split  \r\n",
        "X_train, X_test, y_train, y_test = train_test_split(data_X, data_y, random_state=0)  #splitting data into train and test"
      ],
      "execution_count": 20,
      "outputs": []
    },
    {
      "cell_type": "code",
      "metadata": {
        "colab": {
          "base_uri": "https://localhost:8080/"
        },
        "id": "lN5v5C_xbQ9C",
        "outputId": "9facdc8d-f239-4be0-e5c9-c7250645de59"
      },
      "source": [
        "#Predicting using Linear Regression\r\n",
        "from sklearn.linear_model import LinearRegression  \r\n",
        "regressor = LinearRegression()  \r\n",
        "regressor.fit(X_train, y_train) "
      ],
      "execution_count": 21,
      "outputs": [
        {
          "output_type": "execute_result",
          "data": {
            "text/plain": [
              "LinearRegression(copy_X=True, fit_intercept=True, n_jobs=None, normalize=False)"
            ]
          },
          "metadata": {
            "tags": []
          },
          "execution_count": 21
        }
      ]
    },
    {
      "cell_type": "code",
      "metadata": {
        "colab": {
          "base_uri": "https://localhost:8080/",
          "height": 307
        },
        "id": "x1r4uf_Ozrvg",
        "outputId": "79521eca-3383-4ab3-d266-9a8fdd912ad5"
      },
      "source": [
        "# Plotting the regression line\r\n",
        "line = regressor.coef_*data_X+regressor.intercept_\r\n",
        "\r\n",
        "# Plotting for the test data\r\n",
        "plt.scatter(data_X, data_y)\r\n",
        "plt.plot(data_X, line, c='r');\r\n",
        "plt.suptitle('Line of Regression')\r\n",
        "plt.xlabel('Number of Hours/Day')\r\n",
        "plt.ylabel('Percentage')\r\n",
        "plt.show()"
      ],
      "execution_count": 22,
      "outputs": [
        {
          "output_type": "display_data",
          "data": {
            "image/png": "[encoded data removed]",
            "text/plain": [
              "<Figure size 432x288 with 1 Axes>"
            ]
          },
          "metadata": {
            "tags": [],
            "needs_background": "light"
          }
        }
      ]
    },
    {
      "cell_type": "code",
      "metadata": {
        "id": "_etae7uqbxRQ"
      },
      "source": [
        "y_pred_train = regressor.predict(X_train) # Predicting the scores of Train\r\n",
        "y_pred_test = regressor.predict(X_test) # Predicting the scores of Test"
      ],
      "execution_count": 23,
      "outputs": []
    },
    {
      "cell_type": "markdown",
      "metadata": {
        "id": "iRHyXBj2pBAD"
      },
      "source": [
        "# Evaluating Mean Absolute Error of Train and Test\r\n",
        "\r\n",
        "---"
      ]
    },
    {
      "cell_type": "code",
      "metadata": {
        "colab": {
          "base_uri": "https://localhost:8080/"
        },
        "id": "oCV1sA3hcV0A",
        "outputId": "53a17a47-39da-4a46-b90e-2b635b7cca1b"
      },
      "source": [
        "from sklearn import metrics  \r\n",
        "print('Mean Absolute Error - Train :', \r\n",
        "      metrics.mean_absolute_error(y_train, y_pred_train)) \r\n",
        "print('Mean Absolute Error - Test :', \r\n",
        "      metrics.mean_absolute_error(y_test, y_pred_test)) "
      ],
      "execution_count": 24,
      "outputs": [
        {
          "output_type": "stream",
          "text": [
            "Mean Absolute Error - Train : 5.31933160717065\n",
            "Mean Absolute Error - Test : 4.130879918502482\n"
          ],
          "name": "stdout"
        }
      ]
    },
    {
      "cell_type": "markdown",
      "metadata": {
        "id": "W9SKQ_0qm101"
      },
      "source": [
        "# Predicting User Input Data (9.25 according to task)\r\n",
        "\r\n",
        "---"
      ]
    },
    {
      "cell_type": "code",
      "metadata": {
        "colab": {
          "base_uri": "https://localhost:8080/"
        },
        "id": "QkCSMpHCczuT",
        "outputId": "73a9fdaf-7dc6-44d6-9bc8-dffb08c68717"
      },
      "source": [
        "#Predicting with user input data\r\n",
        "hours = [[float(input())]] #user input - i put 9.25 according to task question\r\n",
        "own_pred = regressor.predict(hours)\r\n",
        "print(\"No of Hours = {}\".format(hours[0][0]))\r\n",
        "print(\"Predicted Score (Percentage) = {}\".format(min(own_pred[0],100))) \r\n",
        "#if predicted percentage > 100 then print 100 as percentage cannot be > 100"
      ],
      "execution_count": 25,
      "outputs": [
        {
          "output_type": "stream",
          "text": [
            "9.25\n",
            "No of Hours = 9.25\n",
            "Predicted Score (Percentage) = 93.89272889341652\n"
          ],
          "name": "stdout"
        }
      ]
    },
    {
      "cell_type": "code",
      "metadata": {
        "id": "AlId5G100NVX"
      },
      "source": [
        ""
      ],
      "execution_count": null,
      "outputs": []
    }
  ]
}